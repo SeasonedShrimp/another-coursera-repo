{
  "metadata": {
    "kernelspec": {
      "name": "python",
      "display_name": "Python (Pyodide)",
      "language": "python"
    },
    "language_info": {
      "codemirror_mode": {
        "name": "python",
        "version": 3
      },
      "file_extension": ".py",
      "mimetype": "text/x-python",
      "name": "python",
      "nbconvert_exporter": "python",
      "pygments_lexer": "ipython3",
      "version": "3.8"
    }
  },
  "nbformat_minor": 4,
  "nbformat": 4,
  "cells": [
    {
      "cell_type": "markdown",
      "source": "<center>\n    <img src=\"https://cf-courses-data.s3.us.cloud-object-storage.appdomain.cloud/IBMDeveloperSkillsNetwork-DS0105EN-SkillsNetwork/labs/Module2/images/SN_web_lightmode.png\" width=\"300\" alt=\"cognitiveclass.ai logo\">\n</center>\n",
      "metadata": {}
    },
    {
      "cell_type": "markdown",
      "source": "#### Add your code below following the instructions given in the course\n",
      "metadata": {}
    },
    {
      "cell_type": "markdown",
      "source": "<h1>My Jupyter Notebook on IBM Watson Studio</h1>",
      "metadata": {}
    },
    {
      "cell_type": "markdown",
      "source": "<b>Bogachev Mikhail</b>\nAn IT guy",
      "metadata": {}
    },
    {
      "cell_type": "markdown",
      "source": "<i>I am interested in data science because I am interested in data. I am also interested in science. So I think, these reasons are enough.</i>",
      "metadata": {}
    },
    {
      "cell_type": "markdown",
      "source": "<h3>My code returns True</h3>",
      "metadata": {}
    },
    {
      "cell_type": "code",
      "source": "def return_true_foo():\n    return True\n\nreturn_true_foo()",
      "metadata": {
        "trusted": true
      },
      "execution_count": 4,
      "outputs": [
        {
          "execution_count": 4,
          "output_type": "execute_result",
          "data": {
            "text/plain": "True"
          },
          "metadata": {}
        }
      ]
    },
    {
      "cell_type": "markdown",
      "source": "<table>\n  <tr>\n    <th><s>What</s></th>\n    <th>should</th>\n    <th>I</th>\n  </tr>\n  <tr>\n    <td>fill</td>\n    <td>it</td>\n    <td><a href=\"https://www.ibm.com\">with?</a></td>\n  </tr>\n</table>",
      "metadata": {}
    }
  ]
}